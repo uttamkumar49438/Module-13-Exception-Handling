{
  "nbformat": 4,
  "nbformat_minor": 0,
  "metadata": {
    "colab": {
      "provenance": []
    },
    "kernelspec": {
      "name": "python3",
      "display_name": "Python 3"
    },
    "language_info": {
      "name": "python"
    }
  },
  "cells": [
    {
      "cell_type": "markdown",
      "source": [
        "1) What is an Exception in python? Write the difference between exception and syntax error"
      ],
      "metadata": {
        "id": "xnvL7KAxxF-F"
      }
    },
    {
      "cell_type": "markdown",
      "source": [
        "An exception is an error that occurs during the execution of a program.\n",
        "It typically happens when the code is syntactically correct but encounters an error during execution.\n",
        "\n",
        "A syntax error occurs when the Python interpreter encounters invalid syntax in the code.It indicates that the code violates the rules of the Python language grammar.\n",
        "\n"
      ],
      "metadata": {
        "id": "LQoO11RhzL-q"
      }
    },
    {
      "cell_type": "markdown",
      "source": [
        "2) What happens when an exception is not handled, explain with an example"
      ],
      "metadata": {
        "id": "v5Hvxb8Mx85t"
      }
    },
    {
      "cell_type": "code",
      "source": [
        "f = open(\"test.txt\" , 'r')\n",
        "print(\"this is my print\")\n",
        "\n"
      ],
      "metadata": {
        "colab": {
          "base_uri": "https://localhost:8080/",
          "height": 158
        },
        "id": "pX1xEUiRzlD4",
        "outputId": "551fb170-4e40-4093-ba2f-0a22708797db"
      },
      "execution_count": 1,
      "outputs": [
        {
          "output_type": "error",
          "ename": "FileNotFoundError",
          "evalue": "[Errno 2] No such file or directory: 'test.txt'",
          "traceback": [
            "\u001b[0;31m---------------------------------------------------------------------------\u001b[0m",
            "\u001b[0;31mFileNotFoundError\u001b[0m                         Traceback (most recent call last)",
            "\u001b[0;32m<ipython-input-1-cea4b23f864f>\u001b[0m in \u001b[0;36m<cell line: 1>\u001b[0;34m()\u001b[0m\n\u001b[0;32m----> 1\u001b[0;31m \u001b[0mf\u001b[0m \u001b[0;34m=\u001b[0m \u001b[0mopen\u001b[0m\u001b[0;34m(\u001b[0m\u001b[0;34m\"test.txt\"\u001b[0m \u001b[0;34m,\u001b[0m \u001b[0;34m'r'\u001b[0m\u001b[0;34m)\u001b[0m\u001b[0;34m\u001b[0m\u001b[0;34m\u001b[0m\u001b[0m\n\u001b[0m\u001b[1;32m      2\u001b[0m \u001b[0mprint\u001b[0m\u001b[0;34m(\u001b[0m\u001b[0;34m\"this is my print\"\u001b[0m\u001b[0;34m)\u001b[0m\u001b[0;34m\u001b[0m\u001b[0;34m\u001b[0m\u001b[0m\n",
            "\u001b[0;31mFileNotFoundError\u001b[0m: [Errno 2] No such file or directory: 'test.txt'"
          ]
        }
      ]
    },
    {
      "cell_type": "markdown",
      "source": [
        "3) Which python statements are used to catch and handle exceptions? Explain with an example"
      ],
      "metadata": {
        "id": "H_9USNcYyGk5"
      }
    },
    {
      "cell_type": "markdown",
      "source": [
        "the try and except statements are used to catch and handle exceptions. The try statement is used to specify a block of code where exceptions might occur, and the except statement is used to handle specific exceptions that occur within the try block."
      ],
      "metadata": {
        "id": "cl0NTv5w0RUu"
      }
    },
    {
      "cell_type": "code",
      "source": [
        "try:\n",
        "    f = open(\"test.txt\" , 'r')\n",
        "except Exception as e :\n",
        "    print(\"there is some issue with my code \", e)"
      ],
      "metadata": {
        "id": "yKhMLE3j0Sjn"
      },
      "execution_count": null,
      "outputs": []
    },
    {
      "cell_type": "markdown",
      "source": [
        "4) Explain with an example\n",
        "a) Try and Else\n",
        "b) finally\n",
        "c) raise"
      ],
      "metadata": {
        "id": "LfJLegsUySmm"
      }
    },
    {
      "cell_type": "code",
      "source": [
        "try:\n",
        "    f = open(\"test1.txt\" , 'r')\n",
        "    f.write(\"this is my msg\")\n",
        "\n",
        "except Exception as e :\n",
        "    print(\"there is some issue with my code \", e)\n",
        "else :\n",
        "        f.close()\n",
        "        print(\"this block will execute once try will execute itself without an exception\")\n",
        "\n",
        "finally :\n",
        "\n",
        "    print(\"i will execute always \")"
      ],
      "metadata": {
        "id": "C_or4XSA0lRC"
      },
      "execution_count": null,
      "outputs": []
    },
    {
      "cell_type": "markdown",
      "source": [
        "5) What are Custom Exceptions in python? Why do we need Custom Exceptions? Explain with an example"
      ],
      "metadata": {
        "id": "ZJb_fXWeyooB"
      }
    },
    {
      "cell_type": "markdown",
      "source": [
        "custom exceptions are user-defined exceptions that allow programmers to create their own exception classes based on specific requirements. These exceptions extend the built-in Exception class or any other built-in exception class"
      ],
      "metadata": {
        "id": "k5Z1Q4EU2j5N"
      }
    },
    {
      "cell_type": "code",
      "source": [
        "class InsufficientFundsError(Exception):\n",
        "    \"\"\"Exception raised for insufficient funds in an account.\"\"\"\n",
        "\n",
        "    def __init__(self, balance, amount):\n",
        "        self.balance = balance\n",
        "        self.amount = amount\n",
        "        super().__init__(f\"Insufficient funds: Available balance is {balance}, but attempted to withdraw {amount}\")\n",
        "\n",
        "def withdraw_from_account(balance, amount):\n",
        "    if amount > balance:\n",
        "        raise InsufficientFundsError(balance, amount)\n",
        "    else:\n",
        "        print(\"Withdrawal successful\")\n"
      ],
      "metadata": {
        "id": "llUCt_-s0tXZ"
      },
      "execution_count": null,
      "outputs": []
    },
    {
      "cell_type": "markdown",
      "source": [
        "6) Create a custom Exception Class. Use this class to handle an Exception."
      ],
      "metadata": {
        "id": "A4Xb9Zmoy3mS"
      }
    },
    {
      "cell_type": "code",
      "source": [
        "class CustomError(Exception):\n",
        "    \"\"\"Custom exception class.\"\"\"\n",
        "    def __init__(self, message=\"An error occurred.\"):\n",
        "        self.message = message\n",
        "        super().__init__(self.message)\n",
        "\n",
        "def divide_numbers(a, b):\n",
        "    \"\"\"Function to divide two numbers.\"\"\"\n",
        "    if b == 0:\n",
        "        raise CustomError(\"Division by zero is not allowed.\")\n",
        "    return a / b\n"
      ],
      "metadata": {
        "id": "92w0qE-X2zZm"
      },
      "execution_count": null,
      "outputs": []
    }
  ]
}